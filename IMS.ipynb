{
 "cells": [
  {
   "cell_type": "markdown",
   "source": [
    "# Read Inventary"
   ],
   "metadata": {}
  },
  {
   "cell_type": "code",
   "execution_count": 1,
   "source": [
    "import json"
   ],
   "outputs": [],
   "metadata": {}
  },
  {
   "cell_type": "code",
   "execution_count": 2,
   "source": [
    "fd=open(\"record.json\",\"r\")\r\n",
    "txt=fd.read()\r\n",
    "fd.close()\r\n",
    "record = json.loads(txt)"
   ],
   "outputs": [],
   "metadata": {}
  },
  {
   "cell_type": "code",
   "execution_count": 3,
   "source": [
    "txt\r\n"
   ],
   "outputs": [
    {
     "output_type": "execute_result",
     "data": {
      "text/plain": [
       "'{\"1001\": {\"name\": \"A4 Sheets\", \"Op\": 2, \"qn\": 600, \"Dp\": 50, \"Sp\": 1}, \"1002\": {\"name\": \"Bed Sheet\", \"Op\": 800, \"qn\": 60, \"Dp\": 50, \"Sp\": 400}, \"1003\": {\"name\": \"Sunflower Oil\", \"Op\": 200, \"qn\": 104, \"Dp\": 50, \"Sp\": 100}, \"1004\": {\"name\": \"Cabbage\", \"Op\": 20, \"qn\": 60, \"Dp\": 50, \"Sp\": 10}, \"1005\": {\"name\": \"Potato\", \"Op\": 20, \"qn\": 120, \"Dp\": 50, \"Sp\": 10}, \"1006\": {\"name\": \"Wheat Flour\", \"Op\": 400, \"qn\": 60, \"Dp\": 50, \"Sp\": 200}, \"1007\": {\"name\": \"Maida\", \"Op\": 24, \"qn\": 57, \"Dp\": 50, \"Sp\": 10}, \"1008\": {\"name\": \"Sugar\", \"Op\": 36, \"qn\": 80, \"Dp\": 50, \"Sp\": 18}, \"1009\": {\"name\": \"Ice-cream\", \"Op\": 340, \"qn\": 90, \"Dp\": 50, \"Sp\": 170}, \"1010\": {\"name\": \"Onion\", \"Op\": 40.0, \"qn\": 90, \"Dp\": 5.0, \"Sp\": 38.0}, \"1014\": {\"name\": \"Peanuts\", \"Op\": 190.0, \"qn\": 300.0, \"Dp\": 30.0, \"Sp\": 133.0}, \"1016\": {\"name\": \"Tie\", \"Op\": 120.0, \"qn\": 46.0, \"Dp\": 20.0, \"Sp\": 96.0}, \"1015\": {\"name\": \"Saree\", \"Op\": 300.0, \"qn\": 50.0, \"Dp\": 20.0, \"Sp\": 240.0}, \"1017\": {\"name\": \"Biscuits\", \"Op\": 40.0, \"qn\": 5.0, \"Dp\": 5.0, \"Sp\": 38.0}, \"1018\": {\"name\": \"Noodles\", \"Op\": 46.0, \"qn\": 120.0, \"Dp\": 10.0, \"Sp\": 41.4}, \"1019\": {\"name\": \"Umbrella\", \"Op\": 450.0, \"qn\": 120.0, \"Dp\": 20.0, \"Sp\": 360.0}, \"1020\": {\"name\": \"Piggy bank\", \"Op\": 40.0, \"qn\": 47.0, \"Dp\": 5.0, \"Sp\": 38.0}, \"1021\": {\"name\": \"Dream Cream\", \"Op\": 35.0, \"qn\": 100.0, \"Dp\": 8.0, \"Sp\": 32.2}, \"1022\": {\"name\": \"Pen pencil\", \"Op\": 30.0, \"qn\": 160.0, \"Dp\": 2.0, \"Sp\": 29.4}, \"1023\": {\"name\": \"Papad\", \"Op\": 60.0, \"qn\": 200.0, \"Dp\": 4.0, \"Sp\": 57.6}, \"1025\": {\"name\": \"Usha Fan\", \"Op\": 560.0, \"qn\": 2.0, \"Dp\": 2.0, \"Sp\": 548.8}, \"1026\": {\"name\": \"Shirt\", \"Op\": 300.0, \"qn\": 120.0, \"Dp\": 30.0, \"Sp\": 210.0}, \"1027\": {\"name\": \"Red Velvet\", \"Op\": 120.0, \"qn\": 100.0, \"Dp\": 5.0, \"Sp\": 114.0}, \"1029\": {\"name\": \"Donut\", \"Op\": 120.0, \"qn\": 100.0, \"Dp\": 5.0, \"Sp\": 114.0}, \"1030\": {\"name\": \"Cream\", \"Op\": 120.0, \"qn\": 100.0, \"Dp\": 10.0, \"Sp\": 108.0}, \"1011\": {\"name\": \"Blanket\", \"Op\": 500.0, \"qn\": 30.0, \"Dp\": 30.0, \"Sp\": 350.0}, \"1012\": {\"name\": \"Moong Dal\", \"Op\": 106.0, \"qn\": 200.0, \"Dp\": 20.0, \"Sp\": 84.8}, \"1013\": {\"name\": \"Dettol\", \"Op\": 60.0, \"qn\": 70.0, \"Dp\": 20.0, \"Sp\": 48.0}, \"1024\": {\"name\": \"Cholate Sip\", \"Op\": 40.0, \"qn\": 200.0, \"Dp\": 20.0, \"Sp\": 32.0}, \"1028\": {\"name\": \"Rice\", \"Op\": 400.0, \"qn\": 120.0, \"Dp\": 20.0, \"Sp\": 320.0}}'"
      ]
     },
     "metadata": {},
     "execution_count": 3
    }
   ],
   "metadata": {}
  },
  {
   "cell_type": "markdown",
   "source": [
    "# Add Product"
   ],
   "metadata": {}
  },
  {
   "cell_type": "code",
   "execution_count": 9,
   "source": [
    "prod_id = str(input(\"Enter product id:\"))\r\n",
    "name = str(input(\"Enter name:\"))\r\n",
    "Op = float(input(\"Enter Original price:₹\"))\r\n",
    "qn = float(input(\"Enter quantity:\"))\r\n",
    "Dp = float(input(\"Enter Discount Percentage:%\"))\r\n",
    "Amt = (Op*Dp)/100\r\n",
    "Sp = Op - Amt\r\n",
    "print(\"Selling Price:₹\",Sp)\r\n",
    "record[prod_id] = {'name': name, 'Op': Op, 'qn': qn,'Dp': Dp,'Sp': Sp}\r\n",
    "js = json.dumps(record)\r\n",
    "fd = open(\"record.json\",'w')\r\n",
    "fd.write(js)\r\n",
    "fd.close()"
   ],
   "outputs": [
    {
     "output_type": "stream",
     "name": "stdout",
     "text": [
      "Selling Price:₹ 2125.0\n"
     ]
    }
   ],
   "metadata": {}
  },
  {
   "cell_type": "markdown",
   "source": [
    "# Delete Product"
   ],
   "metadata": {}
  },
  {
   "cell_type": "code",
   "execution_count": 5,
   "source": [
    "prod_id=str(input(\"Enter Product ID:\"))\r\n",
    "del record[prod_id]\r\n",
    "print(\"Product Deleted\",prod_id)\r\n",
    "    \r\n",
    "\r\n",
    "\r\n",
    " \r\n",
    "    "
   ],
   "outputs": [
    {
     "output_type": "stream",
     "name": "stdout",
     "text": [
      "Product Deleted 202\n"
     ]
    }
   ],
   "metadata": {}
  },
  {
   "cell_type": "code",
   "execution_count": 10,
   "source": [
    "record"
   ],
   "outputs": [
    {
     "output_type": "execute_result",
     "data": {
      "text/plain": [
       "{'1001': {'name': 'A4 Sheets', 'Op': 2, 'qn': 600, 'Dp': 50, 'Sp': 1},\n",
       " '1002': {'name': 'Bed Sheet', 'Op': 800, 'qn': 60, 'Dp': 50, 'Sp': 400},\n",
       " '1003': {'name': 'Sunflower Oil', 'Op': 200, 'qn': 104, 'Dp': 50, 'Sp': 100},\n",
       " '1004': {'name': 'Cabbage', 'Op': 20, 'qn': 60, 'Dp': 50, 'Sp': 10},\n",
       " '1005': {'name': 'Potato', 'Op': 20, 'qn': 120, 'Dp': 50, 'Sp': 10},\n",
       " '1006': {'name': 'Wheat Flour', 'Op': 400, 'qn': 60, 'Dp': 50, 'Sp': 200},\n",
       " '1007': {'name': 'Maida', 'Op': 24, 'qn': 57, 'Dp': 50, 'Sp': 10},\n",
       " '1008': {'name': 'Sugar', 'Op': 36, 'qn': 80, 'Dp': 50, 'Sp': 18},\n",
       " '1009': {'name': 'Ice-cream', 'Op': 340, 'qn': 90, 'Dp': 50, 'Sp': 170},\n",
       " '1010': {'name': 'Onion', 'Op': 40.0, 'qn': 90, 'Dp': 5.0, 'Sp': 38.0},\n",
       " '1014': {'name': 'Peanuts',\n",
       "  'Op': 190.0,\n",
       "  'qn': 300.0,\n",
       "  'Dp': 30.0,\n",
       "  'Sp': 133.0},\n",
       " '1016': {'name': 'Tie', 'Op': 120.0, 'qn': 46.0, 'Dp': 20.0, 'Sp': 96.0},\n",
       " '1015': {'name': 'Saree', 'Op': 300.0, 'qn': 50.0, 'Dp': 20.0, 'Sp': 240.0},\n",
       " '1017': {'name': 'Biscuits', 'Op': 40.0, 'qn': 5.0, 'Dp': 5.0, 'Sp': 38.0},\n",
       " '1018': {'name': 'Noodles', 'Op': 46.0, 'qn': 120.0, 'Dp': 10.0, 'Sp': 41.4},\n",
       " '1019': {'name': 'Umbrella',\n",
       "  'Op': 450.0,\n",
       "  'qn': 120.0,\n",
       "  'Dp': 20.0,\n",
       "  'Sp': 360.0},\n",
       " '1020': {'name': 'Piggy bank', 'Op': 40.0, 'qn': 47.0, 'Dp': 5.0, 'Sp': 38.0},\n",
       " '1021': {'name': 'Dream Cream',\n",
       "  'Op': 35.0,\n",
       "  'qn': 100.0,\n",
       "  'Dp': 8.0,\n",
       "  'Sp': 32.2},\n",
       " '1022': {'name': 'Pen pencil',\n",
       "  'Op': 30.0,\n",
       "  'qn': 160.0,\n",
       "  'Dp': 2.0,\n",
       "  'Sp': 29.4},\n",
       " '1023': {'name': 'Papad', 'Op': 60.0, 'qn': 200.0, 'Dp': 4.0, 'Sp': 57.6},\n",
       " '1025': {'name': 'Usha Fan', 'Op': 560.0, 'qn': 2.0, 'Dp': 2.0, 'Sp': 548.8},\n",
       " '1026': {'name': 'Shirt', 'Op': 300.0, 'qn': 120.0, 'Dp': 30.0, 'Sp': 210.0},\n",
       " '1027': {'name': 'Red Velvet',\n",
       "  'Op': 120.0,\n",
       "  'qn': 100.0,\n",
       "  'Dp': 5.0,\n",
       "  'Sp': 114.0},\n",
       " '1029': {'name': 'Donut', 'Op': 120.0, 'qn': 100.0, 'Dp': 5.0, 'Sp': 114.0},\n",
       " '1030': {'name': 'Cream', 'Op': 120.0, 'qn': 100.0, 'Dp': 10.0, 'Sp': 108.0},\n",
       " '1011': {'name': 'Blanket', 'Op': 500.0, 'qn': 30.0, 'Dp': 30.0, 'Sp': 350.0},\n",
       " '1012': {'name': 'Moong Dal',\n",
       "  'Op': 106.0,\n",
       "  'qn': 200.0,\n",
       "  'Dp': 20.0,\n",
       "  'Sp': 84.8},\n",
       " '1013': {'name': 'Dettol', 'Op': 60.0, 'qn': 70.0, 'Dp': 20.0, 'Sp': 48.0},\n",
       " '1024': {'name': 'Cholate Sip',\n",
       "  'Op': 40.0,\n",
       "  'qn': 200.0,\n",
       "  'Dp': 20.0,\n",
       "  'Sp': 32.0},\n",
       " '1028': {'name': 'Rice', 'Op': 400.0, 'qn': 120.0, 'Dp': 20.0, 'Sp': 320.0},\n",
       " '1050': {'name': 'perfume', 'Op': 1000.0, 'qn': 2.0, 'Dp': 10.0, 'Sp': 900.0},\n",
       " '2050': {'name': 'perfume X',\n",
       "  'Op': 2500.0,\n",
       "  'qn': 1.0,\n",
       "  'Dp': 15.0,\n",
       "  'Sp': 2125.0}}"
      ]
     },
     "metadata": {},
     "execution_count": 10
    }
   ],
   "metadata": {}
  },
  {
   "cell_type": "markdown",
   "source": [
    "# Update Record file"
   ],
   "metadata": {}
  },
  {
   "cell_type": "code",
   "execution_count": 15,
   "source": [
    "js = json.dumps(record)\r\n",
    "\r\n",
    "fd = open(\"record.json\",'w')\r\n",
    "fd.write(js)\r\n",
    "fd.close()"
   ],
   "outputs": [],
   "metadata": {}
  },
  {
   "cell_type": "code",
   "execution_count": null,
   "source": [],
   "outputs": [],
   "metadata": {}
  }
 ],
 "metadata": {
  "kernelspec": {
   "name": "python3",
   "display_name": "Python 3.9.2 64-bit"
  },
  "language_info": {
   "codemirror_mode": {
    "name": "ipython",
    "version": 3
   },
   "file_extension": ".py",
   "mimetype": "text/x-python",
   "name": "python",
   "nbconvert_exporter": "python",
   "pygments_lexer": "ipython3",
   "version": "3.9.2"
  },
  "interpreter": {
   "hash": "63fd5069d213b44bf678585dea6b12cceca9941eaf7f819626cde1f2670de90d"
  }
 },
 "nbformat": 4,
 "nbformat_minor": 5
}