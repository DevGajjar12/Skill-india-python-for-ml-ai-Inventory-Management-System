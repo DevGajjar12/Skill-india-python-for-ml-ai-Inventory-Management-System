{
 "cells": [
  {
   "cell_type": "markdown",
   "source": [
    "# Read Inventary"
   ],
   "metadata": {}
  },
  {
   "cell_type": "code",
   "execution_count": null,
   "source": [
    "import json"
   ],
   "outputs": [],
   "metadata": {}
  },
  {
   "cell_type": "code",
   "execution_count": null,
   "source": [
    "fd=open(\"record.json\",\"r\")\r\n",
    "txt=fd.read()\r\n",
    "fd.close()\r\n",
    "record = json.loads(txt)"
   ],
   "outputs": [],
   "metadata": {}
  },
  {
   "cell_type": "code",
   "execution_count": null,
   "source": [
    "record"
   ],
   "outputs": [],
   "metadata": {}
  },
  {
   "cell_type": "markdown",
   "source": [
    "# Purchase"
   ],
   "metadata": {}
  },
  {
   "cell_type": "code",
   "execution_count": null,
   "source": [
    "print('Welcome to Discount Bazaar!!!')\r\n",
    "print('Purchase Your Goods')\r\n",
    "choice=input(\"Choose \\n 1)View Product\\n 2)Purchase\\n 3)Exit\")\r\n",
    "if (choice==\"1\"):\r\n",
    "    print(\"Products currently present:-\")\r\n",
    "    print(record)\r\n",
    "elif(choice==\"2\"):\r\n",
    "    prod_id   = str(input(\"Enter the product_Id: \"))\r\n",
    "    qn = int(input(\"Enter the quantity: \"))\r\n",
    "    print(\"Product: \", record[prod_id]['name'])\r\n",
    "    print(\"Price:₹ \", record[prod_id]['Sp'])\r\n",
    "    print(\"------------------------------------------------\")\r\n",
    "    print(\"Billing Amount: ₹\", record[prod_id]['Sp'] * qn)\r\n",
    "    print(\"Amount Saved:₹\",record[prod_id]['Op']-record[prod_id]['Sp'])\r\n",
    "    record[prod_id]['qn'] = record[prod_id]['qn'] - qn\r\n",
    "elif(choice==\"3\"):\r\n",
    "    print(\"Thank You for Shopping with us\")\r\n",
    "    exit()\r\n",
    "    \r\n",
    "else:  \r\n",
    "        print(\"Oops! Incorrect Choice.\")  \r\n",
    "        exit()\r\n",
    "\r\n"
   ],
   "outputs": [],
   "metadata": {}
  },
  {
   "cell_type": "markdown",
   "source": [
    "# Sales"
   ],
   "metadata": {}
  },
  {
   "cell_type": "code",
   "execution_count": null,
   "source": [
    "js = json.dumps(record)\r\n",
    "fd = open(\"Sales.json\",'w')\r\n",
    "fd.write(js)\r\n",
    "fd.close()"
   ],
   "outputs": [],
   "metadata": {}
  },
  {
   "cell_type": "code",
   "execution_count": null,
   "source": [
    "Sale={'prod_id' : prod_id, 'qn' : qn, 'Name':record[prod_id]['name'],'Total Amt': record[prod_id]['Sp'] * qn}\r\n",
    "js = json.dumps(Sale)\r\n",
    "fd = open(\"Sales.json\",'w')\r\n",
    "fd.write(js)\r\n",
    "fd.close()"
   ],
   "outputs": [],
   "metadata": {}
  },
  {
   "cell_type": "code",
   "execution_count": null,
   "source": [
    "fd=open(\"Sales.json\",\"r\")\r\n",
    "r=fd.read()\r\n",
    "fd.close()\r\n",
    "Purchase= json.loads(r)"
   ],
   "outputs": [],
   "metadata": {}
  },
  {
   "cell_type": "code",
   "execution_count": null,
   "source": [
    "Purchase"
   ],
   "outputs": [],
   "metadata": {}
  },
  {
   "cell_type": "code",
   "execution_count": null,
   "source": [],
   "outputs": [],
   "metadata": {}
  }
 ],
 "metadata": {
  "kernelspec": {
   "name": "python3",
   "display_name": "Python 3.9.2 64-bit"
  },
  "language_info": {
   "codemirror_mode": {
    "name": "ipython",
    "version": 3
   },
   "file_extension": ".py",
   "mimetype": "text/x-python",
   "name": "python",
   "nbconvert_exporter": "python",
   "pygments_lexer": "ipython3",
   "version": "3.9.2"
  },
  "interpreter": {
   "hash": "63fd5069d213b44bf678585dea6b12cceca9941eaf7f819626cde1f2670de90d"
  }
 },
 "nbformat": 4,
 "nbformat_minor": 5
}